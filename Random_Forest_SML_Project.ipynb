{
  "nbformat": 4,
  "nbformat_minor": 5,
  "metadata": {
    "colab": {
      "name": "Random-Forest-SML Project.ipynb",
      "provenance": []
    },
    "kernelspec": {
      "display_name": "Python 3",
      "language": "python",
      "name": "python3"
    },
    "language_info": {
      "codemirror_mode": {
        "name": "ipython",
        "version": 3
      },
      "file_extension": ".py",
      "mimetype": "text/x-python",
      "name": "python",
      "nbconvert_exporter": "python",
      "pygments_lexer": "ipython3",
      "version": "3.8.8"
    },
    "accelerator": "GPU"
  },
  "cells": [
    {
      "cell_type": "code",
      "source": [
        "from sklearn.ensemble import RandomForestRegressor\n",
        "from sklearn.ensemble import RandomForestRegressor\n",
        "from sklearn.metrics import mean_squared_log_error\n",
        "from sklearn.metrics import r2_score\n",
        "from sklearn.metrics import mean_squared_error\n",
        "from sklearn.model_selection import train_test_split\n",
        "from sklearn.metrics import mean_squared_error\n",
        "from sklearn.metrics import mean_absolute_error\n",
        "\n",
        "\n",
        "from math import sqrt\n",
        "from math import sqrt\n",
        "from numpy.linalg import inv\n",
        "\n",
        "import numpy as np\n",
        "import pandas as pd\n",
        "import math\n",
        "import matplotlib.pyplot as plt \n",
        "import datetime \n",
        "import joblib\n"
      ],
      "metadata": {
        "id": "zjk_e7hjvdrB"
      },
      "id": "zjk_e7hjvdrB",
      "execution_count": 43,
      "outputs": []
    },
    {
      "cell_type": "code",
      "metadata": {
        "id": "2a49aa9d"
      },
      "source": [
        "#Train Dataset and for loading the Data-set Just Run this Cell and Directly run the bottom 2 Cells to get the respective prediction of the model, saving training time.\n",
        "df=pd.read_csv(\"train.csv\") \n",
        "df.describe()\n",
        "\n",
        "date_time=df['date_time']\n",
        "date=[]\n",
        "time=[]\n",
        "#Split Date and Time\n",
        "for i in date_time:\n",
        "    m=i.split(\" \")\n",
        "    date.append(m[0])\n",
        "    time.append(m[1])\n",
        "\n",
        "timea=[]\n",
        "times=[]\n",
        "datea=[]\n",
        "a=np.array(df)\n",
        "\n",
        "for i in time:\n",
        "   m=i.split(\":\")\n",
        "   times.append(int(m[0]))\n",
        "\n",
        "for i in times:\n",
        "    if(8<=i<=17):\n",
        "        timea.append(1)\n",
        "    else:\n",
        "        timea.append(0)\n",
        "\n",
        "#Performing One Hot encoding for differentiating between weekdays and weekends\n",
        "for i in date:\n",
        "    date1=str(i)\n",
        "    #print(date1)\n",
        "    day_name= ['Monday', 'Tuesday', 'Wednesday', 'Thursday', 'Friday', 'Saturday','Sunday']\n",
        "    day = datetime.datetime.strptime(date1, '%Y-%m-%d').weekday()\n",
        "    if(day_name[day] in ['Monday', 'Tuesday', 'Wednesday', 'Thursday', 'Friday']):\n",
        "       datea.append(1)\n",
        "    else:\n",
        "       datea.append(0)\n",
        "    \n",
        "datea=np.array(datea)\n",
        "datea=datea.reshape(7111,1)\n",
        "\n",
        "        \n",
        "timea=np.array(timea)\n",
        "timea=timea.reshape(7111,1)\n",
        "\n",
        "\n",
        "\n",
        "df1=df\n",
        "df1=df1.drop('date_time',axis=1)\n",
        "\n",
        "\n",
        "df1['time']=timea\n",
        "df1['date']=datea\n",
        "\n",
        "#Adding 2 new Features time and date to the dataset\n",
        "\n",
        "X=a[: , 1:9] \n",
        "Y=a[:,9:]\n",
        "X=np.append(timea,X,axis=1)\n",
        "X=np.append(datea,X,axis=1)\n",
        "\n",
        "\n",
        "# Function to compute RMSLE\n",
        "def NumPyRMSLE(y_true:list, y_pred:list) -> float:\n",
        "    n = len(y_true)\n",
        "    msle = np.mean([(np.log(y_pred[i] + 1) - np.log(y_true[i] + 1)) ** 2.0 for i in range(n)])\n",
        "    return np.sqrt(msle)\n",
        "\n",
        "# Segregate Train and Target Features\n",
        "train=df1\n",
        "all_features = [\"deg_C\", \"relative_humidity\", \"absolute_humidity\", \"sensor_1\", \"sensor_2\", \"sensor_3\", \"sensor_4\", \"sensor_5\",\"time\",\"date\"]\n",
        "targets= ['target_carbon_monoxide','target_benzene','target_nitrogen_oxides']\n",
        "y_random_target=train[targets]  \n",
        "x_random_train=train[all_features]\n",
        "\n",
        "#Segregate Dependent and Independent Features\n",
        "train_features, valid_features, train_target, valid_target = train_test_split(x_random_train, y_random_target, test_size = 0.25, random_state = 42)\n",
        "\n",
        "train_features, test_features, train_target, test_target = train_test_split(x_random_train, y_random_target, test_size = 0.2, random_state = 42)\n"
      ],
      "id": "2a49aa9d",
      "execution_count": 44,
      "outputs": []
    },
    {
      "cell_type": "code",
      "metadata": {
        "id": "778fb1b3",
        "colab": {
          "base_uri": "https://localhost:8080/"
        },
        "outputId": "dcbe5f54-c59f-4000-dcf9-6c6201be9e53"
      },
      "source": [
        "#Segregate Dependent and Independent Features\n",
        "train=df1\n",
        "all_features = [\"deg_C\", \"relative_humidity\", \"absolute_humidity\", \"sensor_1\", \"sensor_2\", \"sensor_3\", \"sensor_4\", \"sensor_5\",\"time\",\"date\"]\n",
        "targets= ['target_carbon_monoxide','target_benzene','target_nitrogen_oxides']\n",
        "y_random_target=train[targets]  \n",
        "x_random_train=train[all_features]\n",
        "print(y_random_target)"
      ],
      "id": "778fb1b3",
      "execution_count": 45,
      "outputs": [
        {
          "output_type": "stream",
          "name": "stdout",
          "text": [
            "      target_carbon_monoxide  target_benzene  target_nitrogen_oxides\n",
            "0                        2.5            12.0                   167.7\n",
            "1                        2.1             9.9                    98.9\n",
            "2                        2.2             9.2                   127.1\n",
            "3                        2.2             9.7                   177.2\n",
            "4                        1.5             6.4                   121.8\n",
            "...                      ...             ...                     ...\n",
            "7106                     1.3             5.1                   191.1\n",
            "7107                     1.4             5.8                   221.3\n",
            "7108                     1.6             5.2                   227.4\n",
            "7109                     1.5             4.6                   199.8\n",
            "7110                     1.4             4.1                   186.5\n",
            "\n",
            "[7111 rows x 3 columns]\n"
          ]
        }
      ]
    },
    {
      "cell_type": "code",
      "metadata": {
        "id": "5G3GU00Rm6NR"
      },
      "source": [
        "# Split the data into training and testing sets\n",
        "train_features, valid_features, train_target, valid_target = train_test_split(x_random_train, y_random_target, test_size = 0.25, random_state = 42)\n",
        "\n",
        "train_features, test_features, train_target, test_target = train_test_split(x_random_train, y_random_target, test_size = 0.2, random_state = 42)\n"
      ],
      "id": "5G3GU00Rm6NR",
      "execution_count": 46,
      "outputs": []
    },
    {
      "cell_type": "code",
      "metadata": {
        "colab": {
          "base_uri": "https://localhost:8080/"
        },
        "id": "8Mzg8T8K46jW",
        "outputId": "18c1e0c8-f0ff-4c34-91da-d74973e29a4e"
      },
      "source": [
        "#Hyper-Parameter Tuning - N Estimators\n",
        "# Instantiate model with 1000 decision trees\n",
        "for x in range(100,1100,100):\n",
        "  rf = RandomForestRegressor(n_estimators = x, random_state = 42)\n",
        "# Train the model on training data\n",
        "  rf.fit(train_features, train_target);\n",
        "  predictions = rf.predict(valid_features)\n",
        "  print(\"FOR N_Estimators :- \",x)\n",
        "  # Calculate the absolute errors\n",
        "  errors = abs(predictions - valid_target)\n",
        "  # Print out the mean absolute errors as (mae)\n",
        "  print('Mean Absolute Error: ', round(np.mean(errors), 2), )\n",
        "  print()\n",
        "  mape = 100 * (errors / valid_target)\n",
        "  # Calculate and display accuracy\n",
        "  accuracy = 100 - np.mean(mape)\n",
        "  print('Mean Absolute Percentage Error -  Accuracy:', round(accuracy, 2), '%.')\n",
        "  print()\n",
        "  print(\"RMSLE - \",mean_squared_log_error(valid_target, predictions))\n",
        "  print()\n",
        "  print()"
      ],
      "id": "8Mzg8T8K46jW",
      "execution_count": 47,
      "outputs": [
        {
          "output_type": "stream",
          "name": "stdout",
          "text": [
            "FOR N_Estimators :-  100\n",
            "Mean Absolute Error:  target_carbon_monoxide     0.27\n",
            "target_benzene             0.82\n",
            "target_nitrogen_oxides    39.07\n",
            "dtype: float64\n",
            "\n",
            "Mean Absolute Percentage Error -  Accuracy: target_carbon_monoxide    83.96\n",
            "target_benzene            90.70\n",
            "target_nitrogen_oxides    75.82\n",
            "dtype: float64 %.\n",
            "\n",
            "RMSLE -  0.036833891193295366\n",
            "\n",
            "\n",
            "FOR N_Estimators :-  200\n",
            "Mean Absolute Error:  target_carbon_monoxide     0.27\n",
            "target_benzene             0.82\n",
            "target_nitrogen_oxides    38.90\n",
            "dtype: float64\n",
            "\n",
            "Mean Absolute Percentage Error -  Accuracy: target_carbon_monoxide    84.01\n",
            "target_benzene            90.71\n",
            "target_nitrogen_oxides    75.93\n",
            "dtype: float64 %.\n",
            "\n",
            "RMSLE -  0.03654282030888786\n",
            "\n",
            "\n",
            "FOR N_Estimators :-  300\n",
            "Mean Absolute Error:  target_carbon_monoxide     0.27\n",
            "target_benzene             0.81\n",
            "target_nitrogen_oxides    38.85\n",
            "dtype: float64\n",
            "\n",
            "Mean Absolute Percentage Error -  Accuracy: target_carbon_monoxide    84.04\n",
            "target_benzene            90.57\n",
            "target_nitrogen_oxides    75.91\n",
            "dtype: float64 %.\n",
            "\n",
            "RMSLE -  0.036657436532702266\n",
            "\n",
            "\n",
            "FOR N_Estimators :-  400\n",
            "Mean Absolute Error:  target_carbon_monoxide     0.26\n",
            "target_benzene             0.81\n",
            "target_nitrogen_oxides    38.67\n",
            "dtype: float64\n",
            "\n",
            "Mean Absolute Percentage Error -  Accuracy: target_carbon_monoxide    84.04\n",
            "target_benzene            90.59\n",
            "target_nitrogen_oxides    75.97\n",
            "dtype: float64 %.\n",
            "\n",
            "RMSLE -  0.036481840525061204\n",
            "\n",
            "\n",
            "FOR N_Estimators :-  500\n",
            "Mean Absolute Error:  target_carbon_monoxide     0.27\n",
            "target_benzene             0.81\n",
            "target_nitrogen_oxides    38.69\n",
            "dtype: float64\n",
            "\n",
            "Mean Absolute Percentage Error -  Accuracy: target_carbon_monoxide    84.03\n",
            "target_benzene            90.61\n",
            "target_nitrogen_oxides    76.00\n",
            "dtype: float64 %.\n",
            "\n",
            "RMSLE -  0.03647883908136868\n",
            "\n",
            "\n",
            "FOR N_Estimators :-  600\n",
            "Mean Absolute Error:  target_carbon_monoxide     0.27\n",
            "target_benzene             0.81\n",
            "target_nitrogen_oxides    38.71\n",
            "dtype: float64\n",
            "\n",
            "Mean Absolute Percentage Error -  Accuracy: target_carbon_monoxide    84.03\n",
            "target_benzene            90.61\n",
            "target_nitrogen_oxides    76.00\n",
            "dtype: float64 %.\n",
            "\n",
            "RMSLE -  0.03644573090971974\n",
            "\n",
            "\n",
            "FOR N_Estimators :-  700\n",
            "Mean Absolute Error:  target_carbon_monoxide     0.27\n",
            "target_benzene             0.81\n",
            "target_nitrogen_oxides    38.69\n",
            "dtype: float64\n",
            "\n",
            "Mean Absolute Percentage Error -  Accuracy: target_carbon_monoxide    84.04\n",
            "target_benzene            90.63\n",
            "target_nitrogen_oxides    76.00\n",
            "dtype: float64 %.\n",
            "\n",
            "RMSLE -  0.03647201189120783\n",
            "\n",
            "\n",
            "FOR N_Estimators :-  800\n",
            "Mean Absolute Error:  target_carbon_monoxide     0.27\n",
            "target_benzene             0.81\n",
            "target_nitrogen_oxides    38.71\n",
            "dtype: float64\n",
            "\n",
            "Mean Absolute Percentage Error -  Accuracy: target_carbon_monoxide    84.03\n",
            "target_benzene            90.64\n",
            "target_nitrogen_oxides    75.97\n",
            "dtype: float64 %.\n",
            "\n",
            "RMSLE -  0.03651211791214198\n",
            "\n",
            "\n",
            "FOR N_Estimators :-  900\n",
            "Mean Absolute Error:  target_carbon_monoxide     0.27\n",
            "target_benzene             0.81\n",
            "target_nitrogen_oxides    38.75\n",
            "dtype: float64\n",
            "\n",
            "Mean Absolute Percentage Error -  Accuracy: target_carbon_monoxide    84.03\n",
            "target_benzene            90.64\n",
            "target_nitrogen_oxides    75.94\n",
            "dtype: float64 %.\n",
            "\n",
            "RMSLE -  0.036568387649371197\n",
            "\n",
            "\n",
            "FOR N_Estimators :-  1000\n",
            "Mean Absolute Error:  target_carbon_monoxide     0.27\n",
            "target_benzene             0.81\n",
            "target_nitrogen_oxides    38.75\n",
            "dtype: float64\n",
            "\n",
            "Mean Absolute Percentage Error -  Accuracy: target_carbon_monoxide    84.04\n",
            "target_benzene            90.64\n",
            "target_nitrogen_oxides    75.96\n",
            "dtype: float64 %.\n",
            "\n",
            "RMSLE -  0.03651558013250894\n",
            "\n",
            "\n"
          ]
        }
      ]
    },
    {
      "cell_type": "code",
      "metadata": {
        "colab": {
          "base_uri": "https://localhost:8080/"
        },
        "id": "SSQ6vcwLlpsX",
        "outputId": "eef1bf72-ec98-4a11-ae82-e154a9f0455d"
      },
      "source": [
        "# Instantiate model with 1000 decision trees\n",
        "#Selecting N-Estimators-800 (Best Value)\n",
        "rf = RandomForestRegressor(n_estimators = 800, random_state = 42)\n",
        "# Train the model on training data\n",
        "rf.fit(train_features, train_target);\n",
        "predictions = rf.predict(test_features)\n",
        "print(\"FOR N_Estimators :- \",800)\n",
        "  # Calculate the absolute errors\n",
        "errors = abs(predictions - test_target)\n",
        "  # Print out the mean absolute errors as (mae)\n",
        "\n",
        "e=round(np.mean(errors), 2)\n",
        "print(e)\n",
        "s=0\n",
        "#To get the average of Mean Absolute Error.\n",
        "for i in e:\n",
        "  s+=i\n",
        "print(\"Mean absolute Error - \", s//3)\n",
        "print()\n",
        "mape = 100 * (errors / test_target)\n",
        "  # Calculate and display accuracy\n",
        "accuracy = 100 - np.mean(mape)\n",
        "\n",
        "#To get the average of the accuracy\n",
        "sum=0\n",
        "for x in accuracy:\n",
        "  sum+=x\n",
        "#MAPE\n",
        "print('Mean Absolute Percentage Error -', 100-sum//3, '%.')\n",
        "print()\n",
        "#RMSLE\n",
        "print(\"RMSLE - \",mean_squared_log_error(test_target, predictions))\n",
        "print()\n",
        "#R2 Score\n",
        "print(\"R2 Score -\",r2_score(test_target, predictions))\n",
        "print()\n",
        "#RMSE\n",
        "rms = sqrt(mean_squared_error(test_target,predictions))\n",
        "print(\"Root mean Squared Error -\", rms)\n",
        "print()\n"
      ],
      "id": "SSQ6vcwLlpsX",
      "execution_count": 48,
      "outputs": [
        {
          "output_type": "stream",
          "name": "stdout",
          "text": [
            "FOR N_Estimators :-  800\n",
            "target_carbon_monoxide     0.30\n",
            "target_benzene             0.94\n",
            "target_nitrogen_oxides    44.21\n",
            "dtype: float64\n",
            "Mean absolute Error -  15.0\n",
            "\n",
            "Mean Absolute Percentage Error - 19.0 %.\n",
            "\n",
            "RMSLE -  0.044036338300244025\n",
            "\n",
            "R2 Score - 0.9018783516212476\n",
            "\n",
            "Root mean Squared Error - 45.020324648966245\n",
            "\n"
          ]
        }
      ]
    },
    {
      "cell_type": "code",
      "source": [
        "#Used to Save the Model\n",
        "joblib.dump(rf, \"./random_forest.joblib\")\n",
        "\n"
      ],
      "metadata": {
        "colab": {
          "base_uri": "https://localhost:8080/"
        },
        "id": "U8ODZyh1XUQB",
        "outputId": "6579002d-ae1b-459f-a125-f4af8b81be20"
      },
      "id": "U8ODZyh1XUQB",
      "execution_count": 49,
      "outputs": [
        {
          "output_type": "execute_result",
          "data": {
            "text/plain": [
              "['./random_forest.joblib']"
            ]
          },
          "metadata": {},
          "execution_count": 49
        }
      ]
    },
    {
      "cell_type": "code",
      "source": [
        "#Load Model\n",
        "loaded_rf = joblib.load(\"./random_forest.joblib\")\n",
        "\n"
      ],
      "metadata": {
        "id": "2meJ_4HEXVwv"
      },
      "id": "2meJ_4HEXVwv",
      "execution_count": 50,
      "outputs": []
    },
    {
      "cell_type": "code",
      "source": [
        "#Predict Using Loaded Model\n",
        "predict_loaded=loaded_rf.predict(test_features)\n",
        "X_test = pd.DataFrame(test_features, columns = all_features)\n",
        "X_test[['target_Carbon_monoxide','target_Benzene','target-Nitrogen_Oxide']]=predict_loaded\n",
        "print(X_test)\n"
      ],
      "metadata": {
        "colab": {
          "base_uri": "https://localhost:8080/"
        },
        "id": "jbrGHS6BXfy_",
        "outputId": "e36d2d31-e6f7-4181-bbe8-21bac0e0d4f0"
      },
      "id": "jbrGHS6BXfy_",
      "execution_count": 51,
      "outputs": [
        {
          "output_type": "stream",
          "name": "stdout",
          "text": [
            "      deg_C  relative_humidity  ...  target_Benzene  target-Nitrogen_Oxide\n",
            "2755   35.9               16.1  ...        7.511500              78.305125\n",
            "3437   28.3               43.3  ...       13.373500             135.507375\n",
            "6472   13.2               66.0  ...        3.073625             153.032625\n",
            "3126   26.0               28.8  ...        6.581500              83.006500\n",
            "5858    9.1               80.4  ...       14.559375             533.707250\n",
            "...     ...                ...  ...             ...                    ...\n",
            "553    21.4               40.1  ...       21.428500             235.812250\n",
            "1397   12.9               61.7  ...        6.465125              94.334875\n",
            "4048   25.1               32.2  ...        0.114500             110.136125\n",
            "4700   26.5               36.6  ...       10.471500             139.888750\n",
            "2189   26.9               39.7  ...        9.272375              95.633625\n",
            "\n",
            "[1423 rows x 13 columns]\n"
          ]
        }
      ]
    },
    {
      "cell_type": "code",
      "source": [
        ""
      ],
      "metadata": {
        "id": "Iphu6V82XtaK"
      },
      "id": "Iphu6V82XtaK",
      "execution_count": 51,
      "outputs": []
    }
  ]
}